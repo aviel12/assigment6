{
 "cells": [
  {
   "cell_type": "code",
   "execution_count": 117,
   "id": "abacbf54",
   "metadata": {},
   "outputs": [],
   "source": [
    "import pandas as pd\n",
    "import matplotlib\n",
    "import numpy as np\n",
    "import matplotlib.pyplot as plt\n",
    "from operator import itemgetter"
   ]
  },
  {
   "cell_type": "code",
   "execution_count": 70,
   "id": "3b0eefdc",
   "metadata": {},
   "outputs": [
    {
     "data": {
      "text/html": [
       "<div>\n",
       "<style scoped>\n",
       "    .dataframe tbody tr th:only-of-type {\n",
       "        vertical-align: middle;\n",
       "    }\n",
       "\n",
       "    .dataframe tbody tr th {\n",
       "        vertical-align: top;\n",
       "    }\n",
       "\n",
       "    .dataframe thead th {\n",
       "        text-align: right;\n",
       "    }\n",
       "</style>\n",
       "<table border=\"1\" class=\"dataframe\">\n",
       "  <thead>\n",
       "    <tr style=\"text-align: right;\">\n",
       "      <th></th>\n",
       "      <th>City</th>\n",
       "      <th>Country</th>\n",
       "      <th>Description</th>\n",
       "    </tr>\n",
       "  </thead>\n",
       "  <tbody>\n",
       "    <tr>\n",
       "      <th>0</th>\n",
       "      <td>Antalya</td>\n",
       "      <td>Turkey</td>\n",
       "      <td>Once seen simply as the gateway to the Turkish...</td>\n",
       "    </tr>\n",
       "    <tr>\n",
       "      <th>1</th>\n",
       "      <td>Athens</td>\n",
       "      <td>Greece</td>\n",
       "      <td>With equal measures of grunge and grace, Athen...</td>\n",
       "    </tr>\n",
       "    <tr>\n",
       "      <th>2</th>\n",
       "      <td>Ayia-napa</td>\n",
       "      <td>Cyprus</td>\n",
       "      <td>Endless blue-sky days and a coastline riddled ...</td>\n",
       "    </tr>\n",
       "    <tr>\n",
       "      <th>3</th>\n",
       "      <td>Bangkok</td>\n",
       "      <td>Thailand</td>\n",
       "      <td>Same same, but different. This Thailish T-shir...</td>\n",
       "    </tr>\n",
       "    <tr>\n",
       "      <th>4</th>\n",
       "      <td>Barcelona</td>\n",
       "      <td>Spain</td>\n",
       "      <td>Barcelona is an enchanting seaside city with b...</td>\n",
       "    </tr>\n",
       "    <tr>\n",
       "      <th>...</th>\n",
       "      <td>...</td>\n",
       "      <td>...</td>\n",
       "      <td>...</td>\n",
       "    </tr>\n",
       "    <tr>\n",
       "      <th>71</th>\n",
       "      <td>Venice</td>\n",
       "      <td>Italy</td>\n",
       "      <td>Imagine the audacity of building a city of mar...</td>\n",
       "    </tr>\n",
       "    <tr>\n",
       "      <th>72</th>\n",
       "      <td>Vienna</td>\n",
       "      <td>Austria</td>\n",
       "      <td>Baroque streetscapes and imperial palaces set ...</td>\n",
       "    </tr>\n",
       "    <tr>\n",
       "      <th>73</th>\n",
       "      <td>Warsaw</td>\n",
       "      <td>Poland</td>\n",
       "      <td>A phoenix arisen from the ashes, Poland's capi...</td>\n",
       "    </tr>\n",
       "    <tr>\n",
       "      <th>74</th>\n",
       "      <td>Zakynthos</td>\n",
       "      <td>Greece</td>\n",
       "      <td>Zakynthos, also known by its Italian name Zant...</td>\n",
       "    </tr>\n",
       "    <tr>\n",
       "      <th>75</th>\n",
       "      <td>Zurich</td>\n",
       "      <td>Switzerland</td>\n",
       "      <td>Culturally vibrant, efficiently run and attrac...</td>\n",
       "    </tr>\n",
       "  </tbody>\n",
       "</table>\n",
       "<p>76 rows × 3 columns</p>\n",
       "</div>"
      ],
      "text/plain": [
       "         City      Country                                        Description\n",
       "0     Antalya       Turkey  Once seen simply as the gateway to the Turkish...\n",
       "1      Athens       Greece  With equal measures of grunge and grace, Athen...\n",
       "2   Ayia-napa       Cyprus  Endless blue-sky days and a coastline riddled ...\n",
       "3     Bangkok     Thailand  Same same, but different. This Thailish T-shir...\n",
       "4   Barcelona        Spain  Barcelona is an enchanting seaside city with b...\n",
       "..        ...          ...                                                ...\n",
       "71     Venice        Italy  Imagine the audacity of building a city of mar...\n",
       "72     Vienna      Austria  Baroque streetscapes and imperial palaces set ...\n",
       "73     Warsaw       Poland  A phoenix arisen from the ashes, Poland's capi...\n",
       "74  Zakynthos       Greece  Zakynthos, also known by its Italian name Zant...\n",
       "75     Zurich  Switzerland  Culturally vibrant, efficiently run and attrac...\n",
       "\n",
       "[76 rows x 3 columns]"
      ]
     },
     "execution_count": 70,
     "metadata": {},
     "output_type": "execute_result"
    }
   ],
   "source": [
    "df = pd.read_csv('C:\\\\Users\\\\Aviel Danin\\\\Desktop\\\\python\\\\pythonNotebooks\\\\notes')\n",
    "df.drop(columns='Unnamed: 0' , inplace=True)"
   ]
  },
  {
   "cell_type": "code",
   "execution_count": 79,
   "id": "31d1be0f",
   "metadata": {},
   "outputs": [],
   "source": [
    "n_words = []\n",
    "for index in df.Description:\n",
    "    c = 0\n",
    "    a = index.replace('.',' ').replace('(',' ').replace(')',' ').replace('\\'',' ').replace('.',' ').replace(',',' ').replace('-',' ').replace(':',' ').replace('’',' ').replace('-',' ').replace(';',' ').replace('\\\\',' ').replace('–',' ').replace('!',' ').replace('?',' ').replace('‘',' ')\n",
    "    b = a.split(' ')\n",
    "    for x in b:\n",
    "        if len(x.rstrip('\\n')) > 0 :\n",
    "            c = c + 1\n",
    "    n_words.append(c)"
   ]
  },
  {
   "cell_type": "code",
   "execution_count": 80,
   "id": "01b2c2f1",
   "metadata": {},
   "outputs": [],
   "source": [
    "no_punc = []\n",
    "for index in df.Description:\n",
    "    y = ''\n",
    "    a = index.replace('.',' ').replace('(',' ').replace(')',' ').replace('\\'',' ').replace('.',' ').replace(',',' ').replace('-',' ').replace(':',' ').replace('’',' ').replace('-',' ').replace(';',' ').replace('\\\\',' ').replace('–',' ').replace('!',' ').replace('?',' ').replace('‘',' ')\n",
    "    b = a.split(' ')\n",
    "    for x in b:\n",
    "        y = y + ' ' + x.replace('\\n','')\n",
    "    no_punc.append(y)\n"
   ]
  },
  {
   "cell_type": "code",
   "execution_count": 139,
   "id": "23325823",
   "metadata": {},
   "outputs": [],
   "source": [
    "restaurants = []\n",
    "for index in df.Description:\n",
    "    a = index.replace('.',' ').replace('(',' ').replace(')',' ').replace('\\'',' ').replace('.',' ').replace(',',' ').replace('-',' ').replace(':',' ').replace('’',' ').replace('-',' ').replace(';',' ').replace('\\\\',' ').replace('–',' ').replace('!',' ').replace('?',' ').replace('‘',' ')\n",
    "    b = a.split(' ')\n",
    "    c = 0\n",
    "    for x in b:\n",
    "        if 'restaurant' in x:\n",
    "            c = c + 1\n",
    "    restaurants.append(c)"
   ]
  },
  {
   "cell_type": "code",
   "execution_count": 138,
   "id": "d3dc2354",
   "metadata": {},
   "outputs": [],
   "source": [
    "museums = []\n",
    "for index in df.Description:\n",
    "    a = index.replace('.',' ').replace('(',' ').replace(')',' ').replace('\\'',' ').replace('.',' ').replace(',',' ').replace('-',' ').replace(':',' ').replace('’',' ').replace('-',' ').replace(';',' ').replace('\\\\',' ').replace('–',' ').replace('!',' ').replace('?',' ').replace('‘',' ')\n",
    "    b = a.split(' ')\n",
    "    c = 0\n",
    "    for x in b:\n",
    "        if 'museum' in x:\n",
    "            c = c + 1\n",
    "    museums.append(c)"
   ]
  },
  {
   "cell_type": "code",
   "execution_count": 137,
   "id": "424c34d4",
   "metadata": {},
   "outputs": [
    {
     "name": "stdout",
     "output_type": "stream",
     "text": [
      "[1, 2, 2, 0, 7, 0, 1, 1, 0, 3, 0, 0, 0, 0, 2, 6, 0, 1, 0, 0, 3, 4, 0, 0, 0, 0, 1, 0, 2, 0, 0, 0, 3, 1, 0, 2, 6, 0, 2, 1, 1, 2, 1, 2, 0, 0, 1, 1, 5, 0, 1, 0, 0, 4, 1, 4, 1, 0, 8, 2, 1, 0, 0, 0, 0, 1, 0, 0, 1, 1, 2, 2, 0, 1, 0, 0]\n"
     ]
    }
   ],
   "source": [
    "beaches = []\n",
    "for index in df.Description:\n",
    "    a = index.replace('.',' ').replace('(',' ').replace(')',' ').replace('\\'',' ').replace('.',' ').replace(',',' ').replace('-',' ').replace(':',' ').replace('’',' ').replace('-',' ').replace(';',' ').replace('\\\\',' ').replace('–',' ').replace('!',' ').replace('?',' ').replace('‘',' ')\n",
    "    b = a.split(' ')\n",
    "    c = 0\n",
    "    for x in b:\n",
    "        if 'beach' in x:\n",
    "            c = c + 1\n",
    "        if 'ocean' in x:\n",
    "            c = c + 1\n",
    "        if 'sea' in x:\n",
    "            c = c + 1\n",
    "    beaches.append(c)"
   ]
  },
  {
   "cell_type": "code",
   "execution_count": 170,
   "id": "98bee533",
   "metadata": {},
   "outputs": [],
   "source": [
    "# 1+2+3+4+5\n",
    "df['num_of_words'] = n_words\n",
    "df['No_punct_description'] = no_punc\n",
    "df['has_restaurants'] = restaurants\n",
    "df['has_museums'] = museums\n",
    "df['has_beaches'] = beaches"
   ]
  },
  {
   "cell_type": "code",
   "execution_count": 85,
   "id": "d2521731",
   "metadata": {},
   "outputs": [
    {
     "data": {
      "text/plain": [
       "286.85526315789474"
      ]
     },
     "execution_count": 85,
     "metadata": {},
     "output_type": "execute_result"
    }
   ],
   "source": [
    "# 6\n",
    "import statistics\n",
    "average_words = statistics.mean(n_words)\n",
    "average_words"
   ]
  },
  {
   "cell_type": "code",
   "execution_count": 87,
   "id": "f2cecc43",
   "metadata": {},
   "outputs": [
    {
     "data": {
      "text/plain": [
       "'Florence'"
      ]
     },
     "execution_count": 87,
     "metadata": {},
     "output_type": "execute_result"
    }
   ],
   "source": [
    "# 7\n",
    "i = 0\n",
    "l = []\n",
    "for idx in no_punc:\n",
    "    l.append((i,len(idx)))\n",
    "    i = i +1\n",
    "max(l , key=itemgetter(1))\n",
    "df.iloc[28]['City']"
   ]
  },
  {
   "cell_type": "code",
   "execution_count": 115,
   "id": "20664cec",
   "metadata": {},
   "outputs": [
    {
     "data": {
      "text/plain": [
       "(array([31.,  7.,  0.,  0.,  1.,  2.,  8., 22.,  4.,  1.]),\n",
       " array([ 686. ,  951.1, 1216.2, 1481.3, 1746.4, 2011.5, 2276.6, 2541.7,\n",
       "        2806.8, 3071.9, 3337. ]),\n",
       " <BarContainer object of 10 artists>)"
      ]
     },
     "execution_count": 115,
     "metadata": {},
     "output_type": "execute_result"
    },
    {
     "data": {
      "image/png": "[encoded data removed]",
      "text/plain": [
       "<Figure size 432x288 with 1 Axes>"
      ]
     },
     "metadata": {
      "needs_background": "light"
     },
     "output_type": "display_data"
    }
   ],
   "source": [
    "# 8\n",
    "plt.hist(len_txt)"
   ]
  },
  {
   "cell_type": "code",
   "execution_count": 167,
   "id": "8a48f1b5",
   "metadata": {},
   "outputs": [
    {
     "data": {
      "image/png": "[encoded data removed]",
      "text/plain": [
       "<Figure size 432x288 with 1 Axes>"
      ]
     },
     "metadata": {
      "needs_background": "light"
     },
     "output_type": "display_data"
    }
   ],
   "source": [
    "# 9\n",
    "xpoints = np.array(df['has_restaurants'])\n",
    "ypoints = np.array(df['has_beaches'])\n",
    "\n",
    "plt.scatter(xpoints, ypoints)\n",
    "plt.show()\n"
   ]
  },
  {
   "cell_type": "code",
   "execution_count": 168,
   "id": "9f2ec0f6",
   "metadata": {},
   "outputs": [
    {
     "data": {
      "image/png": "[encoded data removed]",
      "text/plain": [
       "<Figure size 432x288 with 1 Axes>"
      ]
     },
     "metadata": {
      "needs_background": "light"
     },
     "output_type": "display_data"
    }
   ],
   "source": [
    "# 10\n",
    "xpoints = np.array(df['has_beaches'])\n",
    "ypoints = np.array(df['has_museums'])\n",
    "\n",
    "plt.scatter(xpoints, ypoints)\n",
    "plt.show()\n"
   ]
  }
 ],
 "metadata": {
  "kernelspec": {
   "display_name": "Python 3 (ipykernel)",
   "language": "python",
   "name": "python3"
  },
  "language_info": {
   "codemirror_mode": {
    "name": "ipython",
    "version": 3
   },
   "file_extension": ".py",
   "mimetype": "text/x-python",
   "name": "python",
   "nbconvert_exporter": "python",
   "pygments_lexer": "ipython3",
   "version": "3.9.7"
  }
 },
 "nbformat": 4,
 "nbformat_minor": 5
}
